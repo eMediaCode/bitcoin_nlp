{
 "cells": [
  {
   "cell_type": "code",
   "execution_count": 8,
   "metadata": {
    "collapsed": true
   },
   "outputs": [],
   "source": [
    "from vaderSentiment.vaderSentiment import SentimentIntensityAnalyzer\n",
    "analyzer = SentimentIntensityAnalyzer()"
   ]
  },
  {
   "cell_type": "markdown",
   "metadata": {},
   "source": [
    "### Negative Sentence"
   ]
  },
  {
   "cell_type": "code",
   "execution_count": 11,
   "metadata": {},
   "outputs": [
    {
     "name": "stdout",
     "output_type": "stream",
     "text": [
      "i hate mcdonalds, they make horrible food\n",
      "Compound Score: -0.802\n",
      "Positive Score: 0.0\n",
      "Neutral Score: 0.357\n",
      "Negative Score: 0.643\n"
     ]
    }
   ],
   "source": [
    "neg_sent = \"i hate mcdonalds, they make horrible food\"\n",
    "\n",
    "# Run analysis\n",
    "compound = analyzer.polarity_scores(neg_sent)[\"compound\"]\n",
    "pos = analyzer.polarity_scores(neg_sent)[\"pos\"]\n",
    "neu = analyzer.polarity_scores(neg_sent)[\"neu\"]\n",
    "neg = analyzer.polarity_scores(neg_sent)[\"neg\"]\n",
    "\n",
    "# Print Analysis\n",
    "print(neg_sent)\n",
    "print(\"Compound Score: %s\" % compound)\n",
    "print(\"Positive Score: %s\" % pos)\n",
    "print(\"Neutral Score: %s\" % neu)\n",
    "print(\"Negative Score: %s\" % neg)"
   ]
  },
  {
   "cell_type": "markdown",
   "metadata": {},
   "source": [
    "### Positive Sentence"
   ]
  },
  {
   "cell_type": "code",
   "execution_count": 13,
   "metadata": {},
   "outputs": [
    {
     "name": "stdout",
     "output_type": "stream",
     "text": [
      "i love mcdonalds, they make amazing food\n",
      "Compound Score: 0.8402\n",
      "Positive Score: 0.667\n",
      "Neutral Score: 0.333\n",
      "Negative Score: 0.0\n"
     ]
    }
   ],
   "source": [
    "pos_sent = \"i love mcdonalds, they make amazing food\"\n",
    "\n",
    "# Run analysis\n",
    "compound = analyzer.polarity_scores(pos_sent)[\"compound\"]\n",
    "pos = analyzer.polarity_scores(pos_sent)[\"pos\"]\n",
    "neu = analyzer.polarity_scores(pos_sent)[\"neu\"]\n",
    "neg = analyzer.polarity_scores(pos_sent)[\"neg\"]\n",
    "\n",
    "# Print Analysis\n",
    "print(pos_sent)\n",
    "print(\"Compound Score: %s\" % compound)\n",
    "print(\"Positive Score: %s\" % pos)\n",
    "print(\"Neutral Score: %s\" % neu)\n",
    "print(\"Negative Score: %s\" % neg)"
   ]
  },
  {
   "cell_type": "markdown",
   "metadata": {},
   "source": [
    "### Neutral Sentence"
   ]
  },
  {
   "cell_type": "code",
   "execution_count": 16,
   "metadata": {},
   "outputs": [
    {
     "name": "stdout",
     "output_type": "stream",
     "text": [
      "i am ok mcdonalds, they make food that is neither good or bad\n",
      "Compound Score: 0.3907\n",
      "Positive Score: 0.307\n",
      "Neutral Score: 0.547\n",
      "Negative Score: 0.146\n"
     ]
    }
   ],
   "source": [
    "neu_sent = \"i am ok mcdonalds, they make food that is neither good or bad\"\n",
    "\n",
    "# Run analysis\n",
    "compound = analyzer.polarity_scores(neu_sent)[\"compound\"]\n",
    "pos = analyzer.polarity_scores(neu_sent)[\"pos\"]\n",
    "neu = analyzer.polarity_scores(neu_sent)[\"neu\"]\n",
    "neg = analyzer.polarity_scores(neu_sent)[\"neg\"]\n",
    "\n",
    "# Print Analysis\n",
    "print(neu_sent)\n",
    "print(\"Compound Score: %s\" % compound)\n",
    "print(\"Positive Score: %s\" % pos)\n",
    "print(\"Neutral Score: %s\" % neu)\n",
    "print(\"Negative Score: %s\" % neg)"
   ]
  }
 ],
 "metadata": {
  "kernelspec": {
   "display_name": "Python 3",
   "language": "python",
   "name": "python3"
  },
  "language_info": {
   "codemirror_mode": {
    "name": "ipython",
    "version": 3
   },
   "file_extension": ".py",
   "mimetype": "text/x-python",
   "name": "python",
   "nbconvert_exporter": "python",
   "pygments_lexer": "ipython3",
   "version": "3.6.5"
  }
 },
 "nbformat": 4,
 "nbformat_minor": 2
}
